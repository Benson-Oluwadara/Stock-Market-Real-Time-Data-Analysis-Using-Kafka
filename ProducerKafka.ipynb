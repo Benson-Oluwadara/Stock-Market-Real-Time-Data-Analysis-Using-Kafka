{
 "cells": [
  {
   "cell_type": "code",
   "execution_count": 3,
   "metadata": {},
   "outputs": [
    {
     "ename": "KeyboardInterrupt",
     "evalue": "",
     "output_type": "error",
     "traceback": [
      "\u001b[1;31m---------------------------------------------------------------------------\u001b[0m",
      "\u001b[1;31mKeyboardInterrupt\u001b[0m                         Traceback (most recent call last)",
      "Cell \u001b[1;32mIn[3], line 16\u001b[0m\n\u001b[0;32m     14\u001b[0m     dict_stock\u001b[39m=\u001b[39mdf\u001b[39m.\u001b[39msample(\u001b[39m1\u001b[39m)\u001b[39m.\u001b[39mto_dict(orient\u001b[39m=\u001b[39m\u001b[39m\"\u001b[39m\u001b[39mrecords\u001b[39m\u001b[39m\"\u001b[39m)[\u001b[39m0\u001b[39m]\n\u001b[0;32m     15\u001b[0m     producer\u001b[39m.\u001b[39msend(\u001b[39m'\u001b[39m\u001b[39mdemotest\u001b[39m\u001b[39m'\u001b[39m,value\u001b[39m=\u001b[39mdict_stock)\n\u001b[1;32m---> 16\u001b[0m     sleep(\u001b[39m1\u001b[39;49m)\n\u001b[0;32m     18\u001b[0m producer\u001b[39m.\u001b[39mflush()\n",
      "\u001b[1;31mKeyboardInterrupt\u001b[0m: "
     ]
    }
   ],
   "source": [
    "import pandas as pd\n",
    "from kafka import KafkaProducer\n",
    "import json\n",
    "from time import sleep\n",
    "from json import dumps\n",
    "\n",
    "producer=KafkaProducer(bootstrap_servers=['44.203.154.25:9092'],value_serializer=lambda x:dumps(x).encode(\"utf-8\"))\n",
    "#producer.send('demotest',value=\"My name is Dara Benson Ololade Mr Money\")\n",
    "\n",
    "df=pd.read_csv('indexProcessed.csv')\n",
    "df.head()\n",
    "\n",
    "while True:\n",
    "    dict_stock=df.sample(1).to_dict(orient=\"records\")[0]\n",
    "    producer.send('demotest',value=dict_stock)\n",
    "    sleep(1)\n",
    "\n",
    "producer.flush()\n"
   ]
  }
 ],
 "metadata": {
  "kernelspec": {
   "display_name": "base",
   "language": "python",
   "name": "python3"
  },
  "language_info": {
   "codemirror_mode": {
    "name": "ipython",
    "version": 3
   },
   "file_extension": ".py",
   "mimetype": "text/x-python",
   "name": "python",
   "nbconvert_exporter": "python",
   "pygments_lexer": "ipython3",
   "version": "3.10.9"
  },
  "orig_nbformat": 4
 },
 "nbformat": 4,
 "nbformat_minor": 2
}
